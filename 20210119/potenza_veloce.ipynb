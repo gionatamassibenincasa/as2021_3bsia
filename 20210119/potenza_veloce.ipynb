{
 "cells": [
  {
   "cell_type": "markdown",
   "metadata": {},
   "source": [
    "# Potenza - algoritmo veloce\n",
    "\n",
    "Considera il problema di calcolare una potenza di un dato numero.\n",
    "Vorremmo una funzione che presi come argomenti una base $b$ e un esponente intero positivo $e$ calcoli $b^n$.\n",
    "Un modo per farlo è tramite la definizione ricorsiva\n",
    "\n",
    "$$\\begin{aligned}\n",
    "      b^{e} &=& b\\cdot b^{e-1}\\\\\n",
    "      b^{0} &=&1\n",
    "\\end{aligned}\n",
    "$$\n",
    "\n"
   ]
  },
  {
   "cell_type": "code",
   "execution_count": 1,
   "metadata": {},
   "outputs": [],
   "source": [
    "double potenza (double b, unsigned int e) {\n",
    "    return (e == 0) ?\n",
    "            1.0 :\n",
    "            b * potenza(b, e - 1);\n",
    "}"
   ]
  },
  {
   "cell_type": "markdown",
   "metadata": {},
   "source": [
    "Siamo in grado di calcolare le potenze in meno passaggi utilizzando degli elevamenti al quadrato uno dopo l'altro, in successione.\n",
    "Per esempio, invece di calcolare $b^8$ come\n",
    "$b\\cdot(b\\cdot(b\\cdot(b\\cdot(b\\cdot(b\\cdot(b\\cdot b))))))$\n",
    "possiamo calcolarlo usando tre moltiplicazioni:\n",
    "\n",
    "$$\\begin{aligned}\n",
    "      b^{2} &=& b\\cdot b\\\\\n",
    "      b^{4} &=& b^{2}\\cdot b^{2}\\\\\n",
    "      b^{8} &=& b^{4}\\cdot b^{4}\n",
    "\\end{aligned}$$\n",
    "\n",
    "Questo metodo funziona bene per gli esponenti che sono potenze del 2.\n",
    "Possiamo sfruttare i ripetuti elevamenti al quadrato anche nel calcolo degli elevamenti a qualsia potenza se utilizziamo la regola \n",
    " \n",
    "$$\\begin{array}{ll}\n",
    "    b^{e} =(b^{e/2})^{2}  & \\mbox{se } e \\mbox{ pari}\\\\\n",
    "    b^{e} =b\\cdot b^{e-1} & \\mbox{se } e & \\mbox{ dispari}\\\\\n",
    "    b^{e} =1              & \\mbox{se } e = 0\n",
    "\\end{array}\n",
    "$$\n",
    " \n",
    "Si può esprimere questo metodo con la funzione:\n"
   ]
  }
 ],
 "metadata": {
  "kernelspec": {
   "display_name": "C++17",
   "language": "C++17",
   "name": "xcpp17"
  },
  "language_info": {
   "codemirror_mode": "text/x-c++src",
   "file_extension": ".cpp",
   "mimetype": "text/x-c++src",
   "name": "c++",
   "version": "17"
  }
 },
 "nbformat": 4,
 "nbformat_minor": 4
}
